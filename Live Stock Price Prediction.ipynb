{
  "nbformat": 4,
  "nbformat_minor": 0,
  "metadata": {
    "colab": {
      "name": "Welcome To Colaboratory",
      "provenance": [],
      "collapsed_sections": [],
      "toc_visible": true,
      "include_colab_link": true
    },
    "kernelspec": {
      "display_name": "Python 3",
      "name": "python3"
    }
  },
  "cells": [
    {
      "cell_type": "markdown",
      "metadata": {
        "id": "view-in-github",
        "colab_type": "text"
      },
      "source": [
        "<a href=\"https://colab.research.google.com/github/ImAbhishekTomar/Python-Programs/blob/master/Live%20Stock%20Price%20Prediction.ipynb\" target=\"_parent\"><img src=\"https://colab.research.google.com/assets/colab-badge.svg\" alt=\"Open In Colab\"/></a>"
      ]
    },
    {
      "cell_type": "markdown",
      "metadata": {
        "id": "VFQQGMPZ5c57",
        "colab_type": "text"
      },
      "source": [
        "**Live Stock Price Prediction\n",
        "Data Source\n",
        "IDEA (IDEA.NS)**\n",
        "\n",
        "https://query1.finance.yahoo.com/v7/finance/download/IDEA.NS?period1=1173398400&period2=1595635200&interval=1d&events=history\n",
        "\n",
        "**Asian Oilfield Services Limited (ASIANOI.BO)**\n",
        "\n",
        "https://query1.finance.yahoo.com/v7/finance/download/ASIANOI.BO?period1=946944000&period2=1595635200&interval=1d&events=history"
      ]
    },
    {
      "cell_type": "code",
      "metadata": {
        "id": "GqoBbajt5fb0",
        "colab_type": "code",
        "colab": {}
      },
      "source": [
        "import pandas as pd\n",
        "import numpy as np\n",
        "from sklearn.tree import DecisionTreeClassifier\n",
        "from datetime import datetime\n",
        "#from sklearn.externals import joblib\n",
        "\n",
        "frequency='1d' #Daily:1d | weekly:1wk | monthly:1mo\n",
        "DATA_SOURCE_URL=f'https://query1.finance.yahoo.com/v7/finance/download/ASIANOI.BO?period1=946944000&period2=1595635200&interval=1mo&events=history'\n"
      ],
      "execution_count": 11,
      "outputs": []
    },
    {
      "cell_type": "markdown",
      "metadata": {
        "id": "pm5QJ_ls59Cv",
        "colab_type": "text"
      },
      "source": [
        "# **Get Live Stock Data** 🌎"
      ]
    },
    {
      "cell_type": "code",
      "metadata": {
        "id": "RgGXghb45puu",
        "colab_type": "code",
        "colab": {
          "base_uri": "https://localhost:8080/",
          "height": 419
        },
        "outputId": "a46116af-cd2e-44bb-8f08-e7c6cb194f8c"
      },
      "source": [
        "# Get Live Stock Data\n",
        "df=pd.read_csv(DATA_SOURCE_URL,\n",
        "               usecols=['Date','Open','High','Low','Close'],\n",
        "               nrows=None,\n",
        "               skip_blank_lines=True,\n",
        "               dtype={'Date':str,'Open':str,'High':float,'Low':float,'Close':float})\n",
        "df\n"
      ],
      "execution_count": 12,
      "outputs": [
        {
          "output_type": "execute_result",
          "data": {
            "text/html": [
              "<div>\n",
              "<style scoped>\n",
              "    .dataframe tbody tr th:only-of-type {\n",
              "        vertical-align: middle;\n",
              "    }\n",
              "\n",
              "    .dataframe tbody tr th {\n",
              "        vertical-align: top;\n",
              "    }\n",
              "\n",
              "    .dataframe thead th {\n",
              "        text-align: right;\n",
              "    }\n",
              "</style>\n",
              "<table border=\"1\" class=\"dataframe\">\n",
              "  <thead>\n",
              "    <tr style=\"text-align: right;\">\n",
              "      <th></th>\n",
              "      <th>Date</th>\n",
              "      <th>Open</th>\n",
              "      <th>High</th>\n",
              "      <th>Low</th>\n",
              "      <th>Close</th>\n",
              "    </tr>\n",
              "  </thead>\n",
              "  <tbody>\n",
              "    <tr>\n",
              "      <th>0</th>\n",
              "      <td>2000-01-01</td>\n",
              "      <td>3.300000</td>\n",
              "      <td>4.350000</td>\n",
              "      <td>1.800000</td>\n",
              "      <td>2.00</td>\n",
              "    </tr>\n",
              "    <tr>\n",
              "      <th>1</th>\n",
              "      <td>2000-02-01</td>\n",
              "      <td>2.350000</td>\n",
              "      <td>2.750000</td>\n",
              "      <td>2.050000</td>\n",
              "      <td>2.30</td>\n",
              "    </tr>\n",
              "    <tr>\n",
              "      <th>2</th>\n",
              "      <td>2000-03-01</td>\n",
              "      <td>2.300000</td>\n",
              "      <td>2.300000</td>\n",
              "      <td>2.000000</td>\n",
              "      <td>2.10</td>\n",
              "    </tr>\n",
              "    <tr>\n",
              "      <th>3</th>\n",
              "      <td>2000-04-01</td>\n",
              "      <td>2.100000</td>\n",
              "      <td>2.100000</td>\n",
              "      <td>2.100000</td>\n",
              "      <td>2.10</td>\n",
              "    </tr>\n",
              "    <tr>\n",
              "      <th>4</th>\n",
              "      <td>2000-05-01</td>\n",
              "      <td>2.100000</td>\n",
              "      <td>2.100000</td>\n",
              "      <td>2.100000</td>\n",
              "      <td>2.10</td>\n",
              "    </tr>\n",
              "    <tr>\n",
              "      <th>...</th>\n",
              "      <td>...</td>\n",
              "      <td>...</td>\n",
              "      <td>...</td>\n",
              "      <td>...</td>\n",
              "      <td>...</td>\n",
              "    </tr>\n",
              "    <tr>\n",
              "      <th>242</th>\n",
              "      <td>2020-03-01</td>\n",
              "      <td>123.000000</td>\n",
              "      <td>123.000000</td>\n",
              "      <td>63.799999</td>\n",
              "      <td>69.00</td>\n",
              "    </tr>\n",
              "    <tr>\n",
              "      <th>243</th>\n",
              "      <td>2020-04-01</td>\n",
              "      <td>69.000000</td>\n",
              "      <td>84.400002</td>\n",
              "      <td>67.000000</td>\n",
              "      <td>73.25</td>\n",
              "    </tr>\n",
              "    <tr>\n",
              "      <th>244</th>\n",
              "      <td>2020-05-01</td>\n",
              "      <td>71.000000</td>\n",
              "      <td>77.000000</td>\n",
              "      <td>65.000000</td>\n",
              "      <td>72.00</td>\n",
              "    </tr>\n",
              "    <tr>\n",
              "      <th>245</th>\n",
              "      <td>2020-06-01</td>\n",
              "      <td>75.599998</td>\n",
              "      <td>106.000000</td>\n",
              "      <td>75.599998</td>\n",
              "      <td>89.75</td>\n",
              "    </tr>\n",
              "    <tr>\n",
              "      <th>246</th>\n",
              "      <td>2020-07-01</td>\n",
              "      <td>93.900002</td>\n",
              "      <td>105.000000</td>\n",
              "      <td>84.000000</td>\n",
              "      <td>92.50</td>\n",
              "    </tr>\n",
              "  </tbody>\n",
              "</table>\n",
              "<p>247 rows × 5 columns</p>\n",
              "</div>"
            ],
            "text/plain": [
              "           Date        Open        High        Low  Close\n",
              "0    2000-01-01    3.300000    4.350000   1.800000   2.00\n",
              "1    2000-02-01    2.350000    2.750000   2.050000   2.30\n",
              "2    2000-03-01    2.300000    2.300000   2.000000   2.10\n",
              "3    2000-04-01    2.100000    2.100000   2.100000   2.10\n",
              "4    2000-05-01    2.100000    2.100000   2.100000   2.10\n",
              "..          ...         ...         ...        ...    ...\n",
              "242  2020-03-01  123.000000  123.000000  63.799999  69.00\n",
              "243  2020-04-01   69.000000   84.400002  67.000000  73.25\n",
              "244  2020-05-01   71.000000   77.000000  65.000000  72.00\n",
              "245  2020-06-01   75.599998  106.000000  75.599998  89.75\n",
              "246  2020-07-01   93.900002  105.000000  84.000000  92.50\n",
              "\n",
              "[247 rows x 5 columns]"
            ]
          },
          "metadata": {
            "tags": []
          },
          "execution_count": 12
        }
      ]
    },
    {
      "cell_type": "markdown",
      "metadata": {
        "id": "7feZFwti6OMU",
        "colab_type": "text"
      },
      "source": [
        "# **Data Cleanup - Remove empty row and replace date \"-\" with space 💁**"
      ]
    },
    {
      "cell_type": "code",
      "metadata": {
        "id": "e7jWJ5UV5u5E",
        "colab_type": "code",
        "colab": {
          "base_uri": "https://localhost:8080/",
          "height": 228
        },
        "outputId": "023a63bb-b8d6-4c28-c3d7-d4c42a62451d"
      },
      "source": [
        "\n",
        "df.replace([np.inf, -np.inf], np.nan)\n",
        "df.dropna(inplace=True)\n",
        "\n",
        "dataset=[]\n",
        "for index, row in df.iterrows():\n",
        "    if any(row):\n",
        "        if(len(row['Date'])>0):\n",
        "            if(row['Open']!='null'):\n",
        "                row['Date']=row['Date'].replace(\"-\",\"\")\n",
        "                dataset.append(row)\n",
        "            else:\n",
        "                print('issue found')\n",
        "                print(row)\n",
        "\n",
        "                \n",
        "df=pd.DataFrame(dataset)\n",
        "df.plot(kind='line',figsize=(15,3))\n",
        "#print(df)\n"
      ],
      "execution_count": 5,
      "outputs": [
        {
          "output_type": "execute_result",
          "data": {
            "text/plain": [
              "<matplotlib.axes._subplots.AxesSubplot at 0x7fbb7ec03f28>"
            ]
          },
          "metadata": {
            "tags": []
          },
          "execution_count": 5
        },
        {
          "output_type": "display_data",
          "data": {
            "image/png": "[encoded data removed]",
            "text/plain": [
              "<Figure size 1080x216 with 1 Axes>"
            ]
          },
          "metadata": {
            "tags": [],
            "needs_background": "light"
          }
        }
      ]
    },
    {
      "cell_type": "markdown",
      "metadata": {
        "id": "Aab2B6dg6ZIW",
        "colab_type": "text"
      },
      "source": [
        "# **Output Data Set (High,Low,Close) ↘️**"
      ]
    },
    {
      "cell_type": "code",
      "metadata": {
        "id": "BL8QMk2Z5yVd",
        "colab_type": "code",
        "colab": {
          "base_uri": "https://localhost:8080/",
          "height": 419
        },
        "outputId": "4138af4e-6093-4c24-aa2a-edcd9095c768"
      },
      "source": [
        "OutputDataSet=df.drop(columns=['Date','Open']) # print(InputDataSet)\n",
        "OutputDataSet\n"
      ],
      "execution_count": 6,
      "outputs": [
        {
          "output_type": "execute_result",
          "data": {
            "text/html": [
              "<div>\n",
              "<style scoped>\n",
              "    .dataframe tbody tr th:only-of-type {\n",
              "        vertical-align: middle;\n",
              "    }\n",
              "\n",
              "    .dataframe tbody tr th {\n",
              "        vertical-align: top;\n",
              "    }\n",
              "\n",
              "    .dataframe thead th {\n",
              "        text-align: right;\n",
              "    }\n",
              "</style>\n",
              "<table border=\"1\" class=\"dataframe\">\n",
              "  <thead>\n",
              "    <tr style=\"text-align: right;\">\n",
              "      <th></th>\n",
              "      <th>High</th>\n",
              "      <th>Low</th>\n",
              "      <th>Close</th>\n",
              "    </tr>\n",
              "  </thead>\n",
              "  <tbody>\n",
              "    <tr>\n",
              "      <th>0</th>\n",
              "      <td>4.350000</td>\n",
              "      <td>1.800000</td>\n",
              "      <td>2.00</td>\n",
              "    </tr>\n",
              "    <tr>\n",
              "      <th>1</th>\n",
              "      <td>2.750000</td>\n",
              "      <td>2.050000</td>\n",
              "      <td>2.30</td>\n",
              "    </tr>\n",
              "    <tr>\n",
              "      <th>2</th>\n",
              "      <td>2.300000</td>\n",
              "      <td>2.000000</td>\n",
              "      <td>2.10</td>\n",
              "    </tr>\n",
              "    <tr>\n",
              "      <th>3</th>\n",
              "      <td>2.100000</td>\n",
              "      <td>2.100000</td>\n",
              "      <td>2.10</td>\n",
              "    </tr>\n",
              "    <tr>\n",
              "      <th>4</th>\n",
              "      <td>2.100000</td>\n",
              "      <td>2.100000</td>\n",
              "      <td>2.10</td>\n",
              "    </tr>\n",
              "    <tr>\n",
              "      <th>...</th>\n",
              "      <td>...</td>\n",
              "      <td>...</td>\n",
              "      <td>...</td>\n",
              "    </tr>\n",
              "    <tr>\n",
              "      <th>242</th>\n",
              "      <td>123.000000</td>\n",
              "      <td>63.799999</td>\n",
              "      <td>69.00</td>\n",
              "    </tr>\n",
              "    <tr>\n",
              "      <th>243</th>\n",
              "      <td>84.400002</td>\n",
              "      <td>67.000000</td>\n",
              "      <td>73.25</td>\n",
              "    </tr>\n",
              "    <tr>\n",
              "      <th>244</th>\n",
              "      <td>77.000000</td>\n",
              "      <td>65.000000</td>\n",
              "      <td>72.00</td>\n",
              "    </tr>\n",
              "    <tr>\n",
              "      <th>245</th>\n",
              "      <td>106.000000</td>\n",
              "      <td>75.599998</td>\n",
              "      <td>89.75</td>\n",
              "    </tr>\n",
              "    <tr>\n",
              "      <th>246</th>\n",
              "      <td>105.000000</td>\n",
              "      <td>84.000000</td>\n",
              "      <td>92.50</td>\n",
              "    </tr>\n",
              "  </tbody>\n",
              "</table>\n",
              "<p>211 rows × 3 columns</p>\n",
              "</div>"
            ],
            "text/plain": [
              "           High        Low  Close\n",
              "0      4.350000   1.800000   2.00\n",
              "1      2.750000   2.050000   2.30\n",
              "2      2.300000   2.000000   2.10\n",
              "3      2.100000   2.100000   2.10\n",
              "4      2.100000   2.100000   2.10\n",
              "..          ...        ...    ...\n",
              "242  123.000000  63.799999  69.00\n",
              "243   84.400002  67.000000  73.25\n",
              "244   77.000000  65.000000  72.00\n",
              "245  106.000000  75.599998  89.75\n",
              "246  105.000000  84.000000  92.50\n",
              "\n",
              "[211 rows x 3 columns]"
            ]
          },
          "metadata": {
            "tags": []
          },
          "execution_count": 6
        }
      ]
    },
    {
      "cell_type": "markdown",
      "metadata": {
        "id": "d7potNh76gGO",
        "colab_type": "text"
      },
      "source": [
        "# **Input Data Set (Date(yyyymmdd),Open) 🔠**"
      ]
    },
    {
      "cell_type": "code",
      "metadata": {
        "id": "Gv6sHdfi6hrR",
        "colab_type": "code",
        "colab": {
          "base_uri": "https://localhost:8080/",
          "height": 419
        },
        "outputId": "cb7225ed-c69c-48f1-b775-61fdf6b657ab"
      },
      "source": [
        "InputDataSet=df.drop(columns=['High','Low','Close'])\n",
        "InputDataSet"
      ],
      "execution_count": 7,
      "outputs": [
        {
          "output_type": "execute_result",
          "data": {
            "text/html": [
              "<div>\n",
              "<style scoped>\n",
              "    .dataframe tbody tr th:only-of-type {\n",
              "        vertical-align: middle;\n",
              "    }\n",
              "\n",
              "    .dataframe tbody tr th {\n",
              "        vertical-align: top;\n",
              "    }\n",
              "\n",
              "    .dataframe thead th {\n",
              "        text-align: right;\n",
              "    }\n",
              "</style>\n",
              "<table border=\"1\" class=\"dataframe\">\n",
              "  <thead>\n",
              "    <tr style=\"text-align: right;\">\n",
              "      <th></th>\n",
              "      <th>Date</th>\n",
              "      <th>Open</th>\n",
              "    </tr>\n",
              "  </thead>\n",
              "  <tbody>\n",
              "    <tr>\n",
              "      <th>0</th>\n",
              "      <td>20000101</td>\n",
              "      <td>3.300000</td>\n",
              "    </tr>\n",
              "    <tr>\n",
              "      <th>1</th>\n",
              "      <td>20000201</td>\n",
              "      <td>2.350000</td>\n",
              "    </tr>\n",
              "    <tr>\n",
              "      <th>2</th>\n",
              "      <td>20000301</td>\n",
              "      <td>2.300000</td>\n",
              "    </tr>\n",
              "    <tr>\n",
              "      <th>3</th>\n",
              "      <td>20000401</td>\n",
              "      <td>2.100000</td>\n",
              "    </tr>\n",
              "    <tr>\n",
              "      <th>4</th>\n",
              "      <td>20000501</td>\n",
              "      <td>2.100000</td>\n",
              "    </tr>\n",
              "    <tr>\n",
              "      <th>...</th>\n",
              "      <td>...</td>\n",
              "      <td>...</td>\n",
              "    </tr>\n",
              "    <tr>\n",
              "      <th>242</th>\n",
              "      <td>20200301</td>\n",
              "      <td>123.000000</td>\n",
              "    </tr>\n",
              "    <tr>\n",
              "      <th>243</th>\n",
              "      <td>20200401</td>\n",
              "      <td>69.000000</td>\n",
              "    </tr>\n",
              "    <tr>\n",
              "      <th>244</th>\n",
              "      <td>20200501</td>\n",
              "      <td>71.000000</td>\n",
              "    </tr>\n",
              "    <tr>\n",
              "      <th>245</th>\n",
              "      <td>20200601</td>\n",
              "      <td>75.599998</td>\n",
              "    </tr>\n",
              "    <tr>\n",
              "      <th>246</th>\n",
              "      <td>20200701</td>\n",
              "      <td>93.900002</td>\n",
              "    </tr>\n",
              "  </tbody>\n",
              "</table>\n",
              "<p>211 rows × 2 columns</p>\n",
              "</div>"
            ],
            "text/plain": [
              "         Date        Open\n",
              "0    20000101    3.300000\n",
              "1    20000201    2.350000\n",
              "2    20000301    2.300000\n",
              "3    20000401    2.100000\n",
              "4    20000501    2.100000\n",
              "..        ...         ...\n",
              "242  20200301  123.000000\n",
              "243  20200401   69.000000\n",
              "244  20200501   71.000000\n",
              "245  20200601   75.599998\n",
              "246  20200701   93.900002\n",
              "\n",
              "[211 rows x 2 columns]"
            ]
          },
          "metadata": {
            "tags": []
          },
          "execution_count": 7
        }
      ]
    },
    {
      "cell_type": "markdown",
      "metadata": {
        "id": "CHEvWGWO6k42",
        "colab_type": "text"
      },
      "source": [
        "# **Get & Format Today date and set in input 🗓️**"
      ]
    },
    {
      "cell_type": "code",
      "metadata": {
        "id": "ZVS1ncZa6n6i",
        "colab_type": "code",
        "colab": {}
      },
      "source": [
        "#Get Today Date\n",
        "today=datetime.now()\n",
        "year=today.strftime('%Y')\n",
        "month=today.strftime('%m')\n",
        "day=today.strftime('%d')\n",
        "datevalue=f'{year}{month}{day}' \n",
        "\n",
        "# Type your input - Date(MMddyy)|OpenPrice(float)\n",
        "INPUT_DATE=datevalue \n",
        "INPUT_OPEN_PRICE=8.40\n"
      ],
      "execution_count": 8,
      "outputs": []
    },
    {
      "cell_type": "markdown",
      "metadata": {
        "id": "OLtc9UrX6qM1",
        "colab_type": "text"
      },
      "source": [
        "# **Actual Machine Learning Code Using Decision Tree Classifier 🤖**"
      ]
    },
    {
      "cell_type": "code",
      "metadata": {
        "id": "35lEZTmZ6tH3",
        "colab_type": "code",
        "colab": {
          "base_uri": "https://localhost:8080/",
          "height": 34
        },
        "outputId": "76e5445f-6ce8-4ceb-ac53-d3ade2692765"
      },
      "source": [
        "model=DecisionTreeClassifier()\n",
        "model.fit(InputDataSet,OutputDataSet.astype('int')) #.astype('int')\n",
        "prediction=model.predict([ [INPUT_DATE,INPUT_OPEN_PRICE] ]) #Output -> High | Low | Close\n",
        "prediction"
      ],
      "execution_count": 9,
      "outputs": [
        {
          "output_type": "execute_result",
          "data": {
            "text/plain": [
              "array([[24, 11, 22]])"
            ]
          },
          "metadata": {
            "tags": []
          },
          "execution_count": 9
        }
      ]
    },
    {
      "cell_type": "markdown",
      "metadata": {
        "id": "2EuafeRU60_L",
        "colab_type": "text"
      },
      "source": [
        "# **Train Model**"
      ]
    },
    {
      "cell_type": "code",
      "metadata": {
        "id": "fulqqzkZ61aw",
        "colab_type": "code",
        "colab": {}
      },
      "source": [
        "#joblib.dump(prediction,'stock-prediction.joblib')\n",
        "#model=joblib.load(prediction,'stock-prediction.joblib')\n",
        "\n"
      ],
      "execution_count": null,
      "outputs": []
    },
    {
      "cell_type": "markdown",
      "metadata": {
        "id": "vebLb2hM7C_5",
        "colab_type": "text"
      },
      "source": [
        "# **Output & Data plot 📉**"
      ]
    },
    {
      "cell_type": "code",
      "metadata": {
        "id": "5jSrb_e07EB_",
        "colab_type": "code",
        "colab": {
          "base_uri": "https://localhost:8080/",
          "height": 364
        },
        "outputId": "96b7b3fd-f1c7-4250-d58c-ff11d6221781"
      },
      "source": [
        "\n",
        "dfp=pd.DataFrame(prediction)\n",
        "dfp=dfp.rename(columns={0: 'High',1:'Low',2:'Close'})\n",
        "\n",
        "print('\\n')\n",
        "\n",
        "print(f'Today ({year}/{month}/{day}) Stock Prediction is :')\n",
        "print('-------------------------')\n",
        "print(f'High  : {prediction[0][0]}')\n",
        "print(f'Low   : {prediction[0][1]}')\n",
        "print(f'Close : {prediction[0][2]}')\n",
        "print('-------------------------')\n",
        "\n",
        "dfp.plot(kind='hist',figsize=(15,3))"
      ],
      "execution_count": 10,
      "outputs": [
        {
          "output_type": "stream",
          "text": [
            "\n",
            "\n",
            "Today (2020/09/09) Stock Prediction is :\n",
            "-------------------------\n",
            "High  : 24\n",
            "Low   : 11\n",
            "Close : 22\n",
            "-------------------------\n"
          ],
          "name": "stdout"
        },
        {
          "output_type": "execute_result",
          "data": {
            "text/plain": [
              "<matplotlib.axes._subplots.AxesSubplot at 0x7fbb7eaf8550>"
            ]
          },
          "metadata": {
            "tags": []
          },
          "execution_count": 10
        },
        {
          "output_type": "display_data",
          "data": {
            "image/png": "[encoded data removed]",
            "text/plain": [
              "<Figure size 1080x216 with 1 Axes>"
            ]
          },
          "metadata": {
            "tags": [],
            "needs_background": "light"
          }
        }
      ]
    }
  ]
}