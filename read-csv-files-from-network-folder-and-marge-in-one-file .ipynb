{
 "cells": [
  {
   "cell_type": "code",
   "execution_count": null,
   "metadata": {},
   "outputs": [],
   "source": [
    "import os,glob\n",
    "import re\n",
    "fx = open(\"totalInventoy1.csv\", \"a\")\n",
    "path=\"//NAS01772PN/data1/Inventory_Management/#LargeClaimInventoryTool/\"\n"
   ]
  },
  {
   "cell_type": "code",
   "execution_count": 91,
   "metadata": {},
   "outputs": [
    {
     "name": "stdout",
     "output_type": "stream",
     "text": [
      "START : LargeClaimInventoryDump_20190719.csv\n"
     ]
    }
   ],
   "source": [
    "try:\n",
    "    for filename in os.listdir(path):\n",
    "        p = re.compile('(LargeClaimInventoryDump_\\d+.csv)', re.IGNORECASE)\n",
    "        ismatch=p.match(filename)\n",
    "        if ismatch:\n",
    "            with open(f'//NAS01772PN/data1/Inventory_Management/#LargeClaimInventoryTool/{filename}','r') as f:\n",
    "                print(f'START : {filename}')                \n",
    "                fx.writelines(f.read())\n",
    "                print(f'END   : {filename}')\n",
    "                \n",
    "    fx.close()\n",
    "except:\n",
    "    fx.close()\n",
    "    \n",
    "    "
   ]
  },
  {
   "cell_type": "code",
   "execution_count": 69,
   "metadata": {},
   "outputs": [
    {
     "name": "stdout",
     "output_type": "stream",
     "text": [
      "not match\n"
     ]
    }
   ],
   "source": [
    "p = re.compile('(LargeClaimInventoryDump_\\d+.csv)', re.IGNORECASE)\n",
    "ismatch=p.match(\"LargeClaimInventoryDump_20200721.csv\")\n",
    "if ismatch:\n",
    "    print('match')\n",
    "else:\n",
    "    print('not match')\n",
    "    \n",
    "#os.listdir(path):\n",
    "# with open(os.path.join(os.cwd(), filename), 'r') as f: # open in readonly mode\n",
    "# do your stuff\n",
    "# with open('//NAS01772PN/data1/Inventory_Management/#LargeClaimInventoryTool/LargeClaimInventoryDump_20200723.csv','r') as f: print(f.readline())\n",
    "\n",
    "# for filename in glob.glob(os.path.join(folder_path, '*.htm')):"
   ]
  },
  {
   "cell_type": "code",
   "execution_count": 80,
   "metadata": {},
   "outputs": [
    {
     "ename": "AttributeError",
     "evalue": "module 'os' has no attribute 'cwd'",
     "output_type": "error",
     "traceback": [
      "\u001b[1;31m---------------------------------------------------------------------------\u001b[0m",
      "\u001b[1;31mAttributeError\u001b[0m                            Traceback (most recent call last)",
      "\u001b[1;32m<ipython-input-80-9303431dace4>\u001b[0m in \u001b[0;36m<module>\u001b[1;34m\u001b[0m\n\u001b[1;32m----> 1\u001b[1;33m \u001b[0mprint\u001b[0m\u001b[1;33m(\u001b[0m\u001b[0mos\u001b[0m\u001b[1;33m.\u001b[0m\u001b[0mcwd\u001b[0m\u001b[1;33m(\u001b[0m\u001b[1;33m)\u001b[0m\u001b[1;33m)\u001b[0m\u001b[1;33m\u001b[0m\u001b[1;33m\u001b[0m\u001b[0m\n\u001b[0m",
      "\u001b[1;31mAttributeError\u001b[0m: module 'os' has no attribute 'cwd'"
     ]
    }
   ],
   "source": [
    "print(os.cwd())"
   ]
  },
  {
   "cell_type": "code",
   "execution_count": null,
   "metadata": {},
   "outputs": [],
   "source": []
  }
 ],
 "metadata": {
  "kernelspec": {
   "display_name": "Python 3",
   "language": "python",
   "name": "python3"
  },
  "language_info": {
   "codemirror_mode": {
    "name": "ipython",
    "version": 3
   },
   "file_extension": ".py",
   "mimetype": "text/x-python",
   "name": "python",
   "nbconvert_exporter": "python",
   "pygments_lexer": "ipython3",
   "version": "3.7.3"
  }
 },
 "nbformat": 4,
 "nbformat_minor": 2
}
