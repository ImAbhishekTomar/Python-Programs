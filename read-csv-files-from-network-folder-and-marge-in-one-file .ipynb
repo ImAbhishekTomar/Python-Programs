{
 "cells": [
  {
   "cell_type": "code",
   "execution_count": 95,
   "metadata": {},
   "outputs": [],
   "source": [
    "import os,glob\n",
    "import re"
   ]
  },
  {
   "cell_type": "code",
   "execution_count": 93,
   "metadata": {},
   "outputs": [],
   "source": [
    "fx = open(\"totalInventoy1.csv\", \"a\") #New Marge File Name \n",
    "path=\"root/data/files/\" #Your Network Folder Path"
   ]
  },
  {
   "cell_type": "code",
   "execution_count": 97,
   "metadata": {},
   "outputs": [
    {
     "name": "stdout",
     "output_type": "stream",
     "text": [
      "START : LargeClaimInventoryDump_20190719.csv\n",
      "error...\n"
     ]
    }
   ],
   "source": [
    "try:\n",
    "    \n",
    "    for filename in os.listdir(path):\n",
    "        p = re.compile('(LargeClaimInventoryDump_\\d+.csv)', re.IGNORECASE) #File Name Match Regex\n",
    "        ismatch=p.match(filename)\n",
    "        if ismatch:\n",
    "            with open(f'{path}{filename}','r') as f:\n",
    "                print(f'START : {filename}')                \n",
    "                fx.write(f.read())\n",
    "                print(f'END   : {filename}')\n",
    "                \n",
    "except:\n",
    "    print('error...')\n",
    "\n",
    "finally:\n",
    "    fx.close()\n",
    "    "
   ]
  },
  {
   "cell_type": "code",
   "execution_count": null,
   "metadata": {},
   "outputs": [],
   "source": []
  }
 ],
 "metadata": {
  "kernelspec": {
   "display_name": "Python 3",
   "language": "python",
   "name": "python3"
  },
  "language_info": {
   "codemirror_mode": {
    "name": "ipython",
    "version": 3
   },
   "file_extension": ".py",
   "mimetype": "text/x-python",
   "name": "python",
   "nbconvert_exporter": "python",
   "pygments_lexer": "ipython3",
   "version": "3.7.3"
  }
 },
 "nbformat": 4,
 "nbformat_minor": 2
}
