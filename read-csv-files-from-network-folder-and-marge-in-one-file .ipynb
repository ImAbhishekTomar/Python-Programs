{
 "cells": [
  {
   "cell_type": "code",
   "execution_count": null,
   "metadata": {},
   "outputs": [],
   "source": [
    "import os,glob\n",
    "import re\n",
    "fx = open(\"totalInventoy1.csv\", \"a\")\n",
    "path=\"//NAS01772PN/data1/Inventory_Management/#LargeClaimInventoryTool/\"\n"
   ]
  },
  {
   "cell_type": "code",
   "execution_count": 91,
   "metadata": {},
   "outputs": [
    {
     "name": "stdout",
     "output_type": "stream",
     "text": [
      "START : LargeClaimInventoryDump_20190719.csv\n"
     ]
    }
   ],
   "source": [
    "try:\n",
    "    for filename in os.listdir(path):\n",
    "        p = re.compile('(LargeClaimInventoryDump_\\d+.csv)', re.IGNORECASE)\n",
    "        ismatch=p.match(filename)\n",
    "        if ismatch:\n",
    "            with open(f'//NAS01772PN/data1/Inventory_Management/#LargeClaimInventoryTool/{filename}','r') as f:\n",
    "                print(f'START : {filename}')                \n",
    "                fx.write(f.read())\n",
    "                print(f'END   : {filename}')\n",
    "                \n",
    "    fx.close()\n",
    "except:\n",
    "    fx.close()\n",
    "    \n",
    "    "
   ]
  },
  {
   "cell_type": "code",
   "execution_count": null,
   "metadata": {},
   "outputs": [],
   "source": []
  }
 ],
 "metadata": {
  "kernelspec": {
   "display_name": "Python 3",
   "language": "python",
   "name": "python3"
  },
  "language_info": {
   "codemirror_mode": {
    "name": "ipython",
    "version": 3
   },
   "file_extension": ".py",
   "mimetype": "text/x-python",
   "name": "python",
   "nbconvert_exporter": "python",
   "pygments_lexer": "ipython3",
   "version": "3.7.3"
  }
 },
 "nbformat": 4,
 "nbformat_minor": 2
}
